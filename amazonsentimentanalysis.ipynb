{
 "cells": [
  {
   "cell_type": "code",
   "execution_count": 1,
   "id": "173df72d",
   "metadata": {
    "_cell_guid": "b1076dfc-b9ad-4769-8c92-a6c4dae69d19",
    "_uuid": "8f2839f25d086af736a60e9eeb907d3b93b6e0e5",
    "execution": {
     "iopub.execute_input": "2024-01-06T16:36:19.867569Z",
     "iopub.status.busy": "2024-01-06T16:36:19.867092Z",
     "iopub.status.idle": "2024-01-06T16:36:20.328892Z",
     "shell.execute_reply": "2024-01-06T16:36:20.327453Z"
    },
    "papermill": {
     "duration": 0.475061,
     "end_time": "2024-01-06T16:36:20.331809",
     "exception": false,
     "start_time": "2024-01-06T16:36:19.856748",
     "status": "completed"
    },
    "tags": []
   },
   "outputs": [
    {
     "name": "stdout",
     "output_type": "stream",
     "text": [
      "/kaggle/input/amazon-fine-food-reviews/hashes.txt\n",
      "/kaggle/input/amazon-fine-food-reviews/Reviews.csv\n",
      "/kaggle/input/amazon-fine-food-reviews/database.sqlite\n"
     ]
    }
   ],
   "source": [
    "# This Python 3 environment comes with many helpful analytics libraries installed\n",
    "# It is defined by the kaggle/python Docker image: https://github.com/kaggle/docker-python\n",
    "# For example, here's several helpful packages to load\n",
    "\n",
    "import numpy as np # linear algebra\n",
    "import pandas as pd # data processing, CSV file I/O (e.g. pd.read_csv)\n",
    "\n",
    "# Input data files are available in the read-only \"../input/\" directory\n",
    "# For example, running this (by clicking run or pressing Shift+Enter) will list all files under the input directory\n",
    "\n",
    "import os\n",
    "for dirname, _, filenames in os.walk('/kaggle/input'):\n",
    "    for filename in filenames:\n",
    "        print(os.path.join(dirname, filename))\n",
    "\n",
    "# You can write up to 20GB to the current directory (/kaggle/working/) that gets preserved as output when you create a version using \"Save & Run All\" \n",
    "# You can also write temporary files to /kaggle/temp/, but they won't be saved outside of the current session"
   ]
  },
  {
   "cell_type": "code",
   "execution_count": 2,
   "id": "d797285d",
   "metadata": {
    "execution": {
     "iopub.execute_input": "2024-01-06T16:36:20.351567Z",
     "iopub.status.busy": "2024-01-06T16:36:20.350855Z",
     "iopub.status.idle": "2024-01-06T16:36:23.130718Z",
     "shell.execute_reply": "2024-01-06T16:36:23.129672Z"
    },
    "papermill": {
     "duration": 2.793938,
     "end_time": "2024-01-06T16:36:23.133602",
     "exception": false,
     "start_time": "2024-01-06T16:36:20.339664",
     "status": "completed"
    },
    "tags": []
   },
   "outputs": [],
   "source": [
    "import seaborn as sns\n",
    "import matplotlib.pyplot as plt\n",
    "\n",
    "# set a stylesheet\n",
    "plt.style.use('ggplot')\n",
    "\n",
    "# natural language toolkit\n",
    "import nltk"
   ]
  },
  {
   "cell_type": "code",
   "execution_count": 3,
   "id": "1db93d1c",
   "metadata": {
    "execution": {
     "iopub.execute_input": "2024-01-06T16:36:23.151839Z",
     "iopub.status.busy": "2024-01-06T16:36:23.150574Z",
     "iopub.status.idle": "2024-01-06T16:36:32.619182Z",
     "shell.execute_reply": "2024-01-06T16:36:32.617843Z"
    },
    "papermill": {
     "duration": 9.481362,
     "end_time": "2024-01-06T16:36:32.622787",
     "exception": false,
     "start_time": "2024-01-06T16:36:23.141425",
     "status": "completed"
    },
    "tags": []
   },
   "outputs": [],
   "source": [
    "# read in the data\n",
    "df = pd.read_csv('../input/amazon-fine-food-reviews/Reviews.csv')"
   ]
  },
  {
   "cell_type": "code",
   "execution_count": 4,
   "id": "45676d76",
   "metadata": {
    "execution": {
     "iopub.execute_input": "2024-01-06T16:36:32.640748Z",
     "iopub.status.busy": "2024-01-06T16:36:32.640355Z",
     "iopub.status.idle": "2024-01-06T16:36:32.646216Z",
     "shell.execute_reply": "2024-01-06T16:36:32.645050Z"
    },
    "papermill": {
     "duration": 0.017643,
     "end_time": "2024-01-06T16:36:32.648677",
     "exception": false,
     "start_time": "2024-01-06T16:36:32.631034",
     "status": "completed"
    },
    "tags": []
   },
   "outputs": [],
   "source": [
    "# there is a lot of data, shape it down a bit\n",
    "df = df.head(500)"
   ]
  },
  {
   "cell_type": "code",
   "execution_count": 5,
   "id": "9fd55759",
   "metadata": {
    "execution": {
     "iopub.execute_input": "2024-01-06T16:36:32.665969Z",
     "iopub.status.busy": "2024-01-06T16:36:32.665558Z",
     "iopub.status.idle": "2024-01-06T16:36:33.058493Z",
     "shell.execute_reply": "2024-01-06T16:36:33.057528Z"
    },
    "papermill": {
     "duration": 0.404679,
     "end_time": "2024-01-06T16:36:33.061175",
     "exception": false,
     "start_time": "2024-01-06T16:36:32.656496",
     "status": "completed"
    },
    "tags": []
   },
   "outputs": [
    {
     "data": {
      "image/png": "[encoded data removed]",
      "text/plain": [
       "<Figure size 1000x500 with 1 Axes>"
      ]
     },
     "metadata": {},
     "output_type": "display_data"
    }
   ],
   "source": [
    "plot = df['Score'].value_counts().sort_index().plot(kind='bar', title='Reviews by Stars', figsize=(10,5))\n",
    "plot.set_xlabel('Stars')\n",
    "plt.show()"
   ]
  },
  {
   "cell_type": "code",
   "execution_count": 6,
   "id": "f7fec7cb",
   "metadata": {
    "execution": {
     "iopub.execute_input": "2024-01-06T16:36:33.080061Z",
     "iopub.status.busy": "2024-01-06T16:36:33.079594Z",
     "iopub.status.idle": "2024-01-06T16:36:33.086470Z",
     "shell.execute_reply": "2024-01-06T16:36:33.085062Z"
    },
    "papermill": {
     "duration": 0.019747,
     "end_time": "2024-01-06T16:36:33.089472",
     "exception": false,
     "start_time": "2024-01-06T16:36:33.069725",
     "status": "completed"
    },
    "tags": []
   },
   "outputs": [
    {
     "name": "stdout",
     "output_type": "stream",
     "text": [
      "This oatmeal is not good. Its mushy, soft, I don't like it. Quaker Oats is the way to go.\n"
     ]
    }
   ],
   "source": [
    "test_ex = df['Text'][50]\n",
    "print(test_ex)"
   ]
  },
  {
   "cell_type": "code",
   "execution_count": 7,
   "id": "48b65e8a",
   "metadata": {
    "execution": {
     "iopub.execute_input": "2024-01-06T16:36:33.109762Z",
     "iopub.status.busy": "2024-01-06T16:36:33.108000Z",
     "iopub.status.idle": "2024-01-06T16:36:33.138145Z",
     "shell.execute_reply": "2024-01-06T16:36:33.137031Z"
    },
    "papermill": {
     "duration": 0.042647,
     "end_time": "2024-01-06T16:36:33.140852",
     "exception": false,
     "start_time": "2024-01-06T16:36:33.098205",
     "status": "completed"
    },
    "tags": []
   },
   "outputs": [
    {
     "data": {
      "text/plain": [
       "['This', 'oatmeal', 'is', 'not', 'good', '.', 'Its', 'mushy', ',', 'soft']"
      ]
     },
     "execution_count": 7,
     "metadata": {},
     "output_type": "execute_result"
    }
   ],
   "source": [
    "# nltk can split the data into parts and tokenize it\n",
    "tokens = nltk.word_tokenize(test_ex)\n",
    "tokens[:10]"
   ]
  },
  {
   "cell_type": "code",
   "execution_count": 8,
   "id": "f65ba9b6",
   "metadata": {
    "execution": {
     "iopub.execute_input": "2024-01-06T16:36:33.161462Z",
     "iopub.status.busy": "2024-01-06T16:36:33.160215Z",
     "iopub.status.idle": "2024-01-06T16:36:33.364669Z",
     "shell.execute_reply": "2024-01-06T16:36:33.363376Z"
    },
    "papermill": {
     "duration": 0.219444,
     "end_time": "2024-01-06T16:36:33.369558",
     "exception": false,
     "start_time": "2024-01-06T16:36:33.150114",
     "status": "completed"
    },
    "tags": []
   },
   "outputs": [
    {
     "data": {
      "text/plain": [
       "[('This', 'DT'),\n",
       " ('oatmeal', 'NN'),\n",
       " ('is', 'VBZ'),\n",
       " ('not', 'RB'),\n",
       " ('good', 'JJ'),\n",
       " ('.', '.'),\n",
       " ('Its', 'PRP$'),\n",
       " ('mushy', 'NN'),\n",
       " (',', ','),\n",
       " ('soft', 'JJ')]"
      ]
     },
     "execution_count": 8,
     "metadata": {},
     "output_type": "execute_result"
    }
   ],
   "source": [
    "# these identify what part of speech each word is\n",
    "tagged = nltk.pos_tag(tokens)\n",
    "tagged[:10]"
   ]
  },
  {
   "cell_type": "code",
   "execution_count": 9,
   "id": "b2d653de",
   "metadata": {
    "execution": {
     "iopub.execute_input": "2024-01-06T16:36:33.395111Z",
     "iopub.status.busy": "2024-01-06T16:36:33.394341Z",
     "iopub.status.idle": "2024-01-06T16:36:33.596478Z",
     "shell.execute_reply": "2024-01-06T16:36:33.595206Z"
    },
    "papermill": {
     "duration": 0.217819,
     "end_time": "2024-01-06T16:36:33.599089",
     "exception": false,
     "start_time": "2024-01-06T16:36:33.381270",
     "status": "completed"
    },
    "tags": []
   },
   "outputs": [
    {
     "name": "stdout",
     "output_type": "stream",
     "text": [
      "(S\n",
      "  This/DT\n",
      "  oatmeal/NN\n",
      "  is/VBZ\n",
      "  not/RB\n",
      "  good/JJ\n",
      "  ./.\n",
      "  Its/PRP$\n",
      "  mushy/NN\n",
      "  ,/,\n",
      "  soft/JJ\n",
      "  ,/,\n",
      "  I/PRP\n",
      "  do/VBP\n",
      "  n't/RB\n",
      "  like/VB\n",
      "  it/PRP\n",
      "  ./.\n",
      "  (ORGANIZATION Quaker/NNP Oats/NNPS)\n",
      "  is/VBZ\n",
      "  the/DT\n",
      "  way/NN\n",
      "  to/TO\n",
      "  go/VB\n",
      "  ./.)\n"
     ]
    }
   ],
   "source": [
    "# groups into chunks of text\n",
    "chunks = nltk.chunk.ne_chunk(tagged)\n",
    "chunks.pprint()"
   ]
  },
  {
   "cell_type": "code",
   "execution_count": 10,
   "id": "48d0b73c",
   "metadata": {
    "execution": {
     "iopub.execute_input": "2024-01-06T16:36:33.618861Z",
     "iopub.status.busy": "2024-01-06T16:36:33.618204Z",
     "iopub.status.idle": "2024-01-06T16:36:33.623260Z",
     "shell.execute_reply": "2024-01-06T16:36:33.622241Z"
    },
    "papermill": {
     "duration": 0.017963,
     "end_time": "2024-01-06T16:36:33.625760",
     "exception": false,
     "start_time": "2024-01-06T16:36:33.607797",
     "status": "completed"
    },
    "tags": []
   },
   "outputs": [],
   "source": [
    "# Sentiment Analysis"
   ]
  },
  {
   "cell_type": "markdown",
   "id": "063d43e7",
   "metadata": {
    "papermill": {
     "duration": 0.009485,
     "end_time": "2024-01-06T16:36:33.644359",
     "exception": false,
     "start_time": "2024-01-06T16:36:33.634874",
     "status": "completed"
    },
    "tags": []
   },
   "source": [
    "Sentiment Analysis"
   ]
  },
  {
   "cell_type": "markdown",
   "id": "89b81b0d",
   "metadata": {
    "papermill": {
     "duration": 0.008857,
     "end_time": "2024-01-06T16:36:33.662660",
     "exception": false,
     "start_time": "2024-01-06T16:36:33.653803",
     "status": "completed"
    },
    "tags": []
   },
   "source": []
  },
  {
   "cell_type": "code",
   "execution_count": 11,
   "id": "d113874c",
   "metadata": {
    "execution": {
     "iopub.execute_input": "2024-01-06T16:36:33.685195Z",
     "iopub.status.busy": "2024-01-06T16:36:33.684499Z",
     "iopub.status.idle": "2024-01-06T16:36:33.742892Z",
     "shell.execute_reply": "2024-01-06T16:36:33.741390Z"
    },
    "papermill": {
     "duration": 0.074163,
     "end_time": "2024-01-06T16:36:33.745739",
     "exception": false,
     "start_time": "2024-01-06T16:36:33.671576",
     "status": "completed"
    },
    "tags": []
   },
   "outputs": [
    {
     "name": "stderr",
     "output_type": "stream",
     "text": [
      "/opt/conda/lib/python3.10/site-packages/nltk/twitter/__init__.py:20: UserWarning: The twython library has not been installed. Some functionality from the twitter package will not be available.\n",
      "  warnings.warn(\"The twython library has not been installed. \"\n"
     ]
    }
   ],
   "source": [
    "from nltk.sentiment import SentimentIntensityAnalyzer\n",
    "from tqdm.notebook import tqdm\n",
    "\n",
    "sentiment_analyzer = SentimentIntensityAnalyzer()"
   ]
  },
  {
   "cell_type": "code",
   "execution_count": 12,
   "id": "9700ba90",
   "metadata": {
    "execution": {
     "iopub.execute_input": "2024-01-06T16:36:33.769660Z",
     "iopub.status.busy": "2024-01-06T16:36:33.767738Z",
     "iopub.status.idle": "2024-01-06T16:36:33.778469Z",
     "shell.execute_reply": "2024-01-06T16:36:33.776953Z"
    },
    "papermill": {
     "duration": 0.026201,
     "end_time": "2024-01-06T16:36:33.781603",
     "exception": false,
     "start_time": "2024-01-06T16:36:33.755402",
     "status": "completed"
    },
    "tags": []
   },
   "outputs": [
    {
     "data": {
      "text/plain": [
       "{'neg': 0.782, 'neu': 0.218, 'pos': 0.0, 'compound': -0.5562}"
      ]
     },
     "execution_count": 12,
     "metadata": {},
     "output_type": "execute_result"
    }
   ],
   "source": [
    "# compound values are from -1 to 1 showing the overall positivity or negativity of the statement\n",
    "sentiment_analyzer.polarity_scores('I am angry!')"
   ]
  },
  {
   "cell_type": "code",
   "execution_count": 13,
   "id": "43098606",
   "metadata": {
    "execution": {
     "iopub.execute_input": "2024-01-06T16:36:33.804202Z",
     "iopub.status.busy": "2024-01-06T16:36:33.802458Z",
     "iopub.status.idle": "2024-01-06T16:36:33.811402Z",
     "shell.execute_reply": "2024-01-06T16:36:33.810175Z"
    },
    "papermill": {
     "duration": 0.024015,
     "end_time": "2024-01-06T16:36:33.814700",
     "exception": false,
     "start_time": "2024-01-06T16:36:33.790685",
     "status": "completed"
    },
    "tags": []
   },
   "outputs": [
    {
     "data": {
      "text/plain": [
       "{'neg': 0.0, 'neu': 0.448, 'pos': 0.552, 'compound': 0.5707}"
      ]
     },
     "execution_count": 13,
     "metadata": {},
     "output_type": "execute_result"
    }
   ],
   "source": [
    "sentiment_analyzer.polarity_scores('I am happier than ever!')"
   ]
  },
  {
   "cell_type": "code",
   "execution_count": 14,
   "id": "0c13e2ae",
   "metadata": {
    "execution": {
     "iopub.execute_input": "2024-01-06T16:36:33.837051Z",
     "iopub.status.busy": "2024-01-06T16:36:33.836085Z",
     "iopub.status.idle": "2024-01-06T16:36:33.844910Z",
     "shell.execute_reply": "2024-01-06T16:36:33.843551Z"
    },
    "papermill": {
     "duration": 0.022459,
     "end_time": "2024-01-06T16:36:33.847560",
     "exception": false,
     "start_time": "2024-01-06T16:36:33.825101",
     "status": "completed"
    },
    "tags": []
   },
   "outputs": [
    {
     "data": {
      "text/plain": [
       "{'neg': 0.22, 'neu': 0.78, 'pos': 0.0, 'compound': -0.5448}"
      ]
     },
     "execution_count": 14,
     "metadata": {},
     "output_type": "execute_result"
    }
   ],
   "source": [
    "sentiment_analyzer.polarity_scores(test_ex)"
   ]
  },
  {
   "cell_type": "code",
   "execution_count": 15,
   "id": "c6f98f9f",
   "metadata": {
    "execution": {
     "iopub.execute_input": "2024-01-06T16:36:33.871400Z",
     "iopub.status.busy": "2024-01-06T16:36:33.870958Z",
     "iopub.status.idle": "2024-01-06T16:36:34.645958Z",
     "shell.execute_reply": "2024-01-06T16:36:34.644738Z"
    },
    "papermill": {
     "duration": 0.79184,
     "end_time": "2024-01-06T16:36:34.649792",
     "exception": false,
     "start_time": "2024-01-06T16:36:33.857952",
     "status": "completed"
    },
    "tags": []
   },
   "outputs": [
    {
     "data": {
      "application/vnd.jupyter.widget-view+json": {
       "model_id": "6e5193d4c853448eb066e6caed4cb8af",
       "version_major": 2,
       "version_minor": 0
      },
      "text/plain": [
       "  0%|          | 0/500 [00:00<?, ?it/s]"
      ]
     },
     "metadata": {},
     "output_type": "display_data"
    }
   ],
   "source": [
    "# run polarity scores on the whole dataset\n",
    "res = {}\n",
    "for i, row in tqdm(df.iterrows(), total = len(df)):\n",
    "    text = row['Text']\n",
    "    myid = row['Id']\n",
    "    res[myid] = sentiment_analyzer.polarity_scores(text)"
   ]
  },
  {
   "cell_type": "code",
   "execution_count": 16,
   "id": "3263d3ef",
   "metadata": {
    "execution": {
     "iopub.execute_input": "2024-01-06T16:36:34.671742Z",
     "iopub.status.busy": "2024-01-06T16:36:34.671160Z",
     "iopub.status.idle": "2024-01-06T16:36:34.738530Z",
     "shell.execute_reply": "2024-01-06T16:36:34.737154Z"
    },
    "papermill": {
     "duration": 0.082006,
     "end_time": "2024-01-06T16:36:34.741414",
     "exception": false,
     "start_time": "2024-01-06T16:36:34.659408",
     "status": "completed"
    },
    "tags": []
   },
   "outputs": [
    {
     "data": {
      "text/html": [
       "<div>\n",
       "<style scoped>\n",
       "    .dataframe tbody tr th:only-of-type {\n",
       "        vertical-align: middle;\n",
       "    }\n",
       "\n",
       "    .dataframe tbody tr th {\n",
       "        vertical-align: top;\n",
       "    }\n",
       "\n",
       "    .dataframe thead th {\n",
       "        text-align: right;\n",
       "    }\n",
       "</style>\n",
       "<table border=\"1\" class=\"dataframe\">\n",
       "  <thead>\n",
       "    <tr style=\"text-align: right;\">\n",
       "      <th></th>\n",
       "      <th>Id</th>\n",
       "      <th>neg</th>\n",
       "      <th>neu</th>\n",
       "      <th>pos</th>\n",
       "      <th>compound</th>\n",
       "      <th>ProductId</th>\n",
       "      <th>UserId</th>\n",
       "      <th>ProfileName</th>\n",
       "      <th>HelpfulnessNumerator</th>\n",
       "      <th>HelpfulnessDenominator</th>\n",
       "      <th>Score</th>\n",
       "      <th>Time</th>\n",
       "      <th>Summary</th>\n",
       "      <th>Text</th>\n",
       "    </tr>\n",
       "  </thead>\n",
       "  <tbody>\n",
       "    <tr>\n",
       "      <th>0</th>\n",
       "      <td>1</td>\n",
       "      <td>0.000</td>\n",
       "      <td>0.695</td>\n",
       "      <td>0.305</td>\n",
       "      <td>0.9441</td>\n",
       "      <td>B001E4KFG0</td>\n",
       "      <td>A3SGXH7AUHU8GW</td>\n",
       "      <td>delmartian</td>\n",
       "      <td>1</td>\n",
       "      <td>1</td>\n",
       "      <td>5</td>\n",
       "      <td>1303862400</td>\n",
       "      <td>Good Quality Dog Food</td>\n",
       "      <td>I have bought several of the Vitality canned d...</td>\n",
       "    </tr>\n",
       "    <tr>\n",
       "      <th>1</th>\n",
       "      <td>2</td>\n",
       "      <td>0.079</td>\n",
       "      <td>0.853</td>\n",
       "      <td>0.068</td>\n",
       "      <td>-0.1027</td>\n",
       "      <td>B00813GRG4</td>\n",
       "      <td>A1D87F6ZCVE5NK</td>\n",
       "      <td>dll pa</td>\n",
       "      <td>0</td>\n",
       "      <td>0</td>\n",
       "      <td>1</td>\n",
       "      <td>1346976000</td>\n",
       "      <td>Not as Advertised</td>\n",
       "      <td>Product arrived labeled as Jumbo Salted Peanut...</td>\n",
       "    </tr>\n",
       "    <tr>\n",
       "      <th>2</th>\n",
       "      <td>3</td>\n",
       "      <td>0.091</td>\n",
       "      <td>0.754</td>\n",
       "      <td>0.155</td>\n",
       "      <td>0.8265</td>\n",
       "      <td>B000LQOCH0</td>\n",
       "      <td>ABXLMWJIXXAIN</td>\n",
       "      <td>Natalia Corres \"Natalia Corres\"</td>\n",
       "      <td>1</td>\n",
       "      <td>1</td>\n",
       "      <td>4</td>\n",
       "      <td>1219017600</td>\n",
       "      <td>\"Delight\" says it all</td>\n",
       "      <td>This is a confection that has been around a fe...</td>\n",
       "    </tr>\n",
       "    <tr>\n",
       "      <th>3</th>\n",
       "      <td>4</td>\n",
       "      <td>0.000</td>\n",
       "      <td>1.000</td>\n",
       "      <td>0.000</td>\n",
       "      <td>0.0000</td>\n",
       "      <td>B000UA0QIQ</td>\n",
       "      <td>A395BORC6FGVXV</td>\n",
       "      <td>Karl</td>\n",
       "      <td>3</td>\n",
       "      <td>3</td>\n",
       "      <td>2</td>\n",
       "      <td>1307923200</td>\n",
       "      <td>Cough Medicine</td>\n",
       "      <td>If you are looking for the secret ingredient i...</td>\n",
       "    </tr>\n",
       "    <tr>\n",
       "      <th>4</th>\n",
       "      <td>5</td>\n",
       "      <td>0.000</td>\n",
       "      <td>0.552</td>\n",
       "      <td>0.448</td>\n",
       "      <td>0.9468</td>\n",
       "      <td>B006K2ZZ7K</td>\n",
       "      <td>A1UQRSCLF8GW1T</td>\n",
       "      <td>Michael D. Bigham \"M. Wassir\"</td>\n",
       "      <td>0</td>\n",
       "      <td>0</td>\n",
       "      <td>5</td>\n",
       "      <td>1350777600</td>\n",
       "      <td>Great taffy</td>\n",
       "      <td>Great taffy at a great price.  There was a wid...</td>\n",
       "    </tr>\n",
       "  </tbody>\n",
       "</table>\n",
       "</div>"
      ],
      "text/plain": [
       "   Id    neg    neu    pos  compound   ProductId          UserId  \\\n",
       "0   1  0.000  0.695  0.305    0.9441  B001E4KFG0  A3SGXH7AUHU8GW   \n",
       "1   2  0.079  0.853  0.068   -0.1027  B00813GRG4  A1D87F6ZCVE5NK   \n",
       "2   3  0.091  0.754  0.155    0.8265  B000LQOCH0   ABXLMWJIXXAIN   \n",
       "3   4  0.000  1.000  0.000    0.0000  B000UA0QIQ  A395BORC6FGVXV   \n",
       "4   5  0.000  0.552  0.448    0.9468  B006K2ZZ7K  A1UQRSCLF8GW1T   \n",
       "\n",
       "                       ProfileName  HelpfulnessNumerator  \\\n",
       "0                       delmartian                     1   \n",
       "1                           dll pa                     0   \n",
       "2  Natalia Corres \"Natalia Corres\"                     1   \n",
       "3                             Karl                     3   \n",
       "4    Michael D. Bigham \"M. Wassir\"                     0   \n",
       "\n",
       "   HelpfulnessDenominator  Score        Time                Summary  \\\n",
       "0                       1      5  1303862400  Good Quality Dog Food   \n",
       "1                       0      1  1346976000      Not as Advertised   \n",
       "2                       1      4  1219017600  \"Delight\" says it all   \n",
       "3                       3      2  1307923200         Cough Medicine   \n",
       "4                       0      5  1350777600            Great taffy   \n",
       "\n",
       "                                                Text  \n",
       "0  I have bought several of the Vitality canned d...  \n",
       "1  Product arrived labeled as Jumbo Salted Peanut...  \n",
       "2  This is a confection that has been around a fe...  \n",
       "3  If you are looking for the secret ingredient i...  \n",
       "4  Great taffy at a great price.  There was a wid...  "
      ]
     },
     "execution_count": 16,
     "metadata": {},
     "output_type": "execute_result"
    }
   ],
   "source": [
    "# .T is able to transpose the data that we have\n",
    "vaders = pd.DataFrame(res).T\n",
    "vaders = vaders.reset_index().rename(columns={'index':'Id'})\n",
    "vaders = vaders.merge(df, how='left')\n",
    "vaders.head()"
   ]
  },
  {
   "cell_type": "code",
   "execution_count": 17,
   "id": "330fa6af",
   "metadata": {
    "execution": {
     "iopub.execute_input": "2024-01-06T16:36:34.767331Z",
     "iopub.status.busy": "2024-01-06T16:36:34.766477Z",
     "iopub.status.idle": "2024-01-06T16:36:34.772519Z",
     "shell.execute_reply": "2024-01-06T16:36:34.770763Z"
    },
    "papermill": {
     "duration": 0.023196,
     "end_time": "2024-01-06T16:36:34.775352",
     "exception": false,
     "start_time": "2024-01-06T16:36:34.752156",
     "status": "completed"
    },
    "tags": []
   },
   "outputs": [],
   "source": [
    "## PLOT RESULTS"
   ]
  },
  {
   "cell_type": "code",
   "execution_count": 18,
   "id": "5bb612c2",
   "metadata": {
    "execution": {
     "iopub.execute_input": "2024-01-06T16:36:34.799625Z",
     "iopub.status.busy": "2024-01-06T16:36:34.798702Z",
     "iopub.status.idle": "2024-01-06T16:36:35.295556Z",
     "shell.execute_reply": "2024-01-06T16:36:35.294181Z"
    },
    "papermill": {
     "duration": 0.512924,
     "end_time": "2024-01-06T16:36:35.298491",
     "exception": false,
     "start_time": "2024-01-06T16:36:34.785567",
     "status": "completed"
    },
    "tags": []
   },
   "outputs": [
    {
     "data": {
      "image/png": "[encoded data removed]",
      "text/plain": [
       "<Figure size 640x480 with 1 Axes>"
      ]
     },
     "metadata": {},
     "output_type": "display_data"
    }
   ],
   "source": [
    "ax = sns.barplot(data = vaders, x = 'Score', y = 'compound')\n",
    "ax.set_title('Scores based on Star Reviews')\n",
    "plt.show()"
   ]
  },
  {
   "cell_type": "code",
   "execution_count": 19,
   "id": "4f520728",
   "metadata": {
    "execution": {
     "iopub.execute_input": "2024-01-06T16:36:35.322370Z",
     "iopub.status.busy": "2024-01-06T16:36:35.321525Z",
     "iopub.status.idle": "2024-01-06T16:36:36.631860Z",
     "shell.execute_reply": "2024-01-06T16:36:36.630561Z"
    },
    "papermill": {
     "duration": 1.325511,
     "end_time": "2024-01-06T16:36:36.634544",
     "exception": false,
     "start_time": "2024-01-06T16:36:35.309033",
     "status": "completed"
    },
    "tags": []
   },
   "outputs": [
    {
     "data": {
      "image/png": "[encoded data removed]",
      "text/plain": [
       "<Figure size 1500x500 with 3 Axes>"
      ]
     },
     "metadata": {},
     "output_type": "display_data"
    }
   ],
   "source": [
    "fig, axs = plt.subplots(1,3,figsize=(15,5))\n",
    "sns.barplot(data=vaders, x='Score',y='neu',ax=axs[0])\n",
    "sns.barplot(data=vaders, x='Score',y='pos',ax=axs[1])\n",
    "sns.barplot(data=vaders, x='Score',y='neg',ax=axs[2])\n",
    "axs[0].set_title('Neutral')\n",
    "axs[1].set_title('Positive')\n",
    "axs[2].set_title('Negative')\n",
    "plt.show()"
   ]
  },
  {
   "cell_type": "code",
   "execution_count": null,
   "id": "c68a1dd5",
   "metadata": {
    "papermill": {
     "duration": 0.011981,
     "end_time": "2024-01-06T16:36:36.658535",
     "exception": false,
     "start_time": "2024-01-06T16:36:36.646554",
     "status": "completed"
    },
    "tags": []
   },
   "outputs": [],
   "source": []
  }
 ],
 "metadata": {
  "kaggle": {
   "accelerator": "none",
   "dataSources": [
    {
     "datasetId": 18,
     "sourceId": 2157,
     "sourceType": "datasetVersion"
    }
   ],
   "dockerImageVersionId": 30626,
   "isGpuEnabled": false,
   "isInternetEnabled": false,
   "language": "python",
   "sourceType": "notebook"
  },
  "kernelspec": {
   "display_name": "Python 3",
   "language": "python",
   "name": "python3"
  },
  "language_info": {
   "codemirror_mode": {
    "name": "ipython",
    "version": 3
   },
   "file_extension": ".py",
   "mimetype": "text/x-python",
   "name": "python",
   "nbconvert_exporter": "python",
   "pygments_lexer": "ipython3",
   "version": "3.10.12"
  },
  "papermill": {
   "default_parameters": {},
   "duration": 21.514984,
   "end_time": "2024-01-06T16:36:37.694829",
   "environment_variables": {},
   "exception": null,
   "input_path": "__notebook__.ipynb",
   "output_path": "__notebook__.ipynb",
   "parameters": {},
   "start_time": "2024-01-06T16:36:16.179845",
   "version": "2.4.0"
  },
  "widgets": {
   "application/vnd.jupyter.widget-state+json": {
    "state": {
     "27ba2b2d8f664662b92f01c1bf88aab7": {
      "model_module": "@jupyter-widgets/base",
      "model_module_version": "1.2.0",
      "model_name": "LayoutModel",
      "state": {
       "_model_module": "@jupyter-widgets/base",
       "_model_module_version": "1.2.0",
       "_model_name": "LayoutModel",
       "_view_count": null,
       "_view_module": "@jupyter-widgets/base",
       "_view_module_version": "1.2.0",
       "_view_name": "LayoutView",
       "align_content": null,
       "align_items": null,
       "align_self": null,
       "border": null,
       "bottom": null,
       "display": null,
       "flex": null,
       "flex_flow": null,
       "grid_area": null,
       "grid_auto_columns": null,
       "grid_auto_flow": null,
       "grid_auto_rows": null,
       "grid_column": null,
       "grid_gap": null,
       "grid_row": null,
       "grid_template_areas": null,
       "grid_template_columns": null,
       "grid_template_rows": null,
       "height": null,
       "justify_content": null,
       "justify_items": null,
       "left": null,
       "margin": null,
       "max_height": null,
       "max_width": null,
       "min_height": null,
       "min_width": null,
       "object_fit": null,
       "object_position": null,
       "order": null,
       "overflow": null,
       "overflow_x": null,
       "overflow_y": null,
       "padding": null,
       "right": null,
       "top": null,
       "visibility": null,
       "width": null
      }
     },
     "34a1da61ac9242d9b785053d2cfd0189": {
      "model_module": "@jupyter-widgets/base",
      "model_module_version": "1.2.0",
      "model_name": "LayoutModel",
      "state": {
       "_model_module": "@jupyter-widgets/base",
       "_model_module_version": "1.2.0",
       "_model_name": "LayoutModel",
       "_view_count": null,
       "_view_module": "@jupyter-widgets/base",
       "_view_module_version": "1.2.0",
       "_view_name": "LayoutView",
       "align_content": null,
       "align_items": null,
       "align_self": null,
       "border": null,
       "bottom": null,
       "display": null,
       "flex": null,
       "flex_flow": null,
       "grid_area": null,
       "grid_auto_columns": null,
       "grid_auto_flow": null,
       "grid_auto_rows": null,
       "grid_column": null,
       "grid_gap": null,
       "grid_row": null,
       "grid_template_areas": null,
       "grid_template_columns": null,
       "grid_template_rows": null,
       "height": null,
       "justify_content": null,
       "justify_items": null,
       "left": null,
       "margin": null,
       "max_height": null,
       "max_width": null,
       "min_height": null,
       "min_width": null,
       "object_fit": null,
       "object_position": null,
       "order": null,
       "overflow": null,
       "overflow_x": null,
       "overflow_y": null,
       "padding": null,
       "right": null,
       "top": null,
       "visibility": null,
       "width": null
      }
     },
     "3bbd920ff13f4082bab3fae4d386ca17": {
      "model_module": "@jupyter-widgets/controls",
      "model_module_version": "1.5.0",
      "model_name": "HTMLModel",
      "state": {
       "_dom_classes": [],
       "_model_module": "@jupyter-widgets/controls",
       "_model_module_version": "1.5.0",
       "_model_name": "HTMLModel",
       "_view_count": null,
       "_view_module": "@jupyter-widgets/controls",
       "_view_module_version": "1.5.0",
       "_view_name": "HTMLView",
       "description": "",
       "description_tooltip": null,
       "layout": "IPY_MODEL_61ac5250c24b40e28c1243dde1a28fd6",
       "placeholder": "​",
       "style": "IPY_MODEL_91cd6b74cd7540aa82e01f634eb53385",
       "value": " 500/500 [00:00&lt;00:00, 647.07it/s]"
      }
     },
     "61ac5250c24b40e28c1243dde1a28fd6": {
      "model_module": "@jupyter-widgets/base",
      "model_module_version": "1.2.0",
      "model_name": "LayoutModel",
      "state": {
       "_model_module": "@jupyter-widgets/base",
       "_model_module_version": "1.2.0",
       "_model_name": "LayoutModel",
       "_view_count": null,
       "_view_module": "@jupyter-widgets/base",
       "_view_module_version": "1.2.0",
       "_view_name": "LayoutView",
       "align_content": null,
       "align_items": null,
       "align_self": null,
       "border": null,
       "bottom": null,
       "display": null,
       "flex": null,
       "flex_flow": null,
       "grid_area": null,
       "grid_auto_columns": null,
       "grid_auto_flow": null,
       "grid_auto_rows": null,
       "grid_column": null,
       "grid_gap": null,
       "grid_row": null,
       "grid_template_areas": null,
       "grid_template_columns": null,
       "grid_template_rows": null,
       "height": null,
       "justify_content": null,
       "justify_items": null,
       "left": null,
       "margin": null,
       "max_height": null,
       "max_width": null,
       "min_height": null,
       "min_width": null,
       "object_fit": null,
       "object_position": null,
       "order": null,
       "overflow": null,
       "overflow_x": null,
       "overflow_y": null,
       "padding": null,
       "right": null,
       "top": null,
       "visibility": null,
       "width": null
      }
     },
     "6e5193d4c853448eb066e6caed4cb8af": {
      "model_module": "@jupyter-widgets/controls",
      "model_module_version": "1.5.0",
      "model_name": "HBoxModel",
      "state": {
       "_dom_classes": [],
       "_model_module": "@jupyter-widgets/controls",
       "_model_module_version": "1.5.0",
       "_model_name": "HBoxModel",
       "_view_count": null,
       "_view_module": "@jupyter-widgets/controls",
       "_view_module_version": "1.5.0",
       "_view_name": "HBoxView",
       "box_style": "",
       "children": [
        "IPY_MODEL_dfb23f04d1124847ba1bb63ddfd0a6c4",
        "IPY_MODEL_7244ee108946447597a636d409152b02",
        "IPY_MODEL_3bbd920ff13f4082bab3fae4d386ca17"
       ],
       "layout": "IPY_MODEL_27ba2b2d8f664662b92f01c1bf88aab7"
      }
     },
     "7244ee108946447597a636d409152b02": {
      "model_module": "@jupyter-widgets/controls",
      "model_module_version": "1.5.0",
      "model_name": "FloatProgressModel",
      "state": {
       "_dom_classes": [],
       "_model_module": "@jupyter-widgets/controls",
       "_model_module_version": "1.5.0",
       "_model_name": "FloatProgressModel",
       "_view_count": null,
       "_view_module": "@jupyter-widgets/controls",
       "_view_module_version": "1.5.0",
       "_view_name": "ProgressView",
       "bar_style": "success",
       "description": "",
       "description_tooltip": null,
       "layout": "IPY_MODEL_34a1da61ac9242d9b785053d2cfd0189",
       "max": 500.0,
       "min": 0.0,
       "orientation": "horizontal",
       "style": "IPY_MODEL_c1519dc43a2e431182451f59144e9cc3",
       "value": 500.0
      }
     },
     "7d272021d4ea44fb80b8c59a0d22991b": {
      "model_module": "@jupyter-widgets/base",
      "model_module_version": "1.2.0",
      "model_name": "LayoutModel",
      "state": {
       "_model_module": "@jupyter-widgets/base",
       "_model_module_version": "1.2.0",
       "_model_name": "LayoutModel",
       "_view_count": null,
       "_view_module": "@jupyter-widgets/base",
       "_view_module_version": "1.2.0",
       "_view_name": "LayoutView",
       "align_content": null,
       "align_items": null,
       "align_self": null,
       "border": null,
       "bottom": null,
       "display": null,
       "flex": null,
       "flex_flow": null,
       "grid_area": null,
       "grid_auto_columns": null,
       "grid_auto_flow": null,
       "grid_auto_rows": null,
       "grid_column": null,
       "grid_gap": null,
       "grid_row": null,
       "grid_template_areas": null,
       "grid_template_columns": null,
       "grid_template_rows": null,
       "height": null,
       "justify_content": null,
       "justify_items": null,
       "left": null,
       "margin": null,
       "max_height": null,
       "max_width": null,
       "min_height": null,
       "min_width": null,
       "object_fit": null,
       "object_position": null,
       "order": null,
       "overflow": null,
       "overflow_x": null,
       "overflow_y": null,
       "padding": null,
       "right": null,
       "top": null,
       "visibility": null,
       "width": null
      }
     },
     "91cd6b74cd7540aa82e01f634eb53385": {
      "model_module": "@jupyter-widgets/controls",
      "model_module_version": "1.5.0",
      "model_name": "DescriptionStyleModel",
      "state": {
       "_model_module": "@jupyter-widgets/controls",
       "_model_module_version": "1.5.0",
       "_model_name": "DescriptionStyleModel",
       "_view_count": null,
       "_view_module": "@jupyter-widgets/base",
       "_view_module_version": "1.2.0",
       "_view_name": "StyleView",
       "description_width": ""
      }
     },
     "c1519dc43a2e431182451f59144e9cc3": {
      "model_module": "@jupyter-widgets/controls",
      "model_module_version": "1.5.0",
      "model_name": "ProgressStyleModel",
      "state": {
       "_model_module": "@jupyter-widgets/controls",
       "_model_module_version": "1.5.0",
       "_model_name": "ProgressStyleModel",
       "_view_count": null,
       "_view_module": "@jupyter-widgets/base",
       "_view_module_version": "1.2.0",
       "_view_name": "StyleView",
       "bar_color": null,
       "description_width": ""
      }
     },
     "cfa818aae0de441abe034077988345a4": {
      "model_module": "@jupyter-widgets/controls",
      "model_module_version": "1.5.0",
      "model_name": "DescriptionStyleModel",
      "state": {
       "_model_module": "@jupyter-widgets/controls",
       "_model_module_version": "1.5.0",
       "_model_name": "DescriptionStyleModel",
       "_view_count": null,
       "_view_module": "@jupyter-widgets/base",
       "_view_module_version": "1.2.0",
       "_view_name": "StyleView",
       "description_width": ""
      }
     },
     "dfb23f04d1124847ba1bb63ddfd0a6c4": {
      "model_module": "@jupyter-widgets/controls",
      "model_module_version": "1.5.0",
      "model_name": "HTMLModel",
      "state": {
       "_dom_classes": [],
       "_model_module": "@jupyter-widgets/controls",
       "_model_module_version": "1.5.0",
       "_model_name": "HTMLModel",
       "_view_count": null,
       "_view_module": "@jupyter-widgets/controls",
       "_view_module_version": "1.5.0",
       "_view_name": "HTMLView",
       "description": "",
       "description_tooltip": null,
       "layout": "IPY_MODEL_7d272021d4ea44fb80b8c59a0d22991b",
       "placeholder": "​",
       "style": "IPY_MODEL_cfa818aae0de441abe034077988345a4",
       "value": "100%"
      }
     }
    },
    "version_major": 2,
    "version_minor": 0
   }
  }
 },
 "nbformat": 4,
 "nbformat_minor": 5
}

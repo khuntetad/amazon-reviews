{
 "cells": [
  {
   "cell_type": "code",
   "execution_count": 1,
   "id": "41f23b5d",
   "metadata": {
    "_cell_guid": "b1076dfc-b9ad-4769-8c92-a6c4dae69d19",
    "_uuid": "8f2839f25d086af736a60e9eeb907d3b93b6e0e5",
    "execution": {
     "iopub.execute_input": "2024-01-06T16:10:00.836057Z",
     "iopub.status.busy": "2024-01-06T16:10:00.835201Z",
     "iopub.status.idle": "2024-01-06T16:10:01.279026Z",
     "shell.execute_reply": "2024-01-06T16:10:01.277824Z"
    },
    "papermill": {
     "duration": 0.452128,
     "end_time": "2024-01-06T16:10:01.281654",
     "exception": false,
     "start_time": "2024-01-06T16:10:00.829526",
     "status": "completed"
    },
    "tags": []
   },
   "outputs": [
    {
     "name": "stdout",
     "output_type": "stream",
     "text": [
      "/kaggle/input/amazon-fine-food-reviews/hashes.txt\n",
      "/kaggle/input/amazon-fine-food-reviews/Reviews.csv\n",
      "/kaggle/input/amazon-fine-food-reviews/database.sqlite\n"
     ]
    }
   ],
   "source": [
    "# This Python 3 environment comes with many helpful analytics libraries installed\n",
    "# It is defined by the kaggle/python Docker image: https://github.com/kaggle/docker-python\n",
    "# For example, here's several helpful packages to load\n",
    "\n",
    "import numpy as np # linear algebra\n",
    "import pandas as pd # data processing, CSV file I/O (e.g. pd.read_csv)\n",
    "\n",
    "# Input data files are available in the read-only \"../input/\" directory\n",
    "# For example, running this (by clicking run or pressing Shift+Enter) will list all files under the input directory\n",
    "\n",
    "import os\n",
    "for dirname, _, filenames in os.walk('/kaggle/input'):\n",
    "    for filename in filenames:\n",
    "        print(os.path.join(dirname, filename))\n",
    "\n",
    "# You can write up to 20GB to the current directory (/kaggle/working/) that gets preserved as output when you create a version using \"Save & Run All\" \n",
    "# You can also write temporary files to /kaggle/temp/, but they won't be saved outside of the current session"
   ]
  },
  {
   "cell_type": "code",
   "execution_count": 2,
   "id": "2305d7e7",
   "metadata": {
    "execution": {
     "iopub.execute_input": "2024-01-06T16:10:01.291541Z",
     "iopub.status.busy": "2024-01-06T16:10:01.290270Z",
     "iopub.status.idle": "2024-01-06T16:10:03.716951Z",
     "shell.execute_reply": "2024-01-06T16:10:03.715958Z"
    },
    "papermill": {
     "duration": 2.434307,
     "end_time": "2024-01-06T16:10:03.719842",
     "exception": false,
     "start_time": "2024-01-06T16:10:01.285535",
     "status": "completed"
    },
    "tags": []
   },
   "outputs": [],
   "source": [
    "import seaborn as sns\n",
    "import matplotlib.pyplot as plt\n",
    "\n",
    "# set a stylesheet\n",
    "plt.style.use('ggplot')\n",
    "\n",
    "# natural language toolkit\n",
    "import nltk"
   ]
  },
  {
   "cell_type": "code",
   "execution_count": 3,
   "id": "86a7b4ad",
   "metadata": {
    "execution": {
     "iopub.execute_input": "2024-01-06T16:10:03.729199Z",
     "iopub.status.busy": "2024-01-06T16:10:03.728745Z",
     "iopub.status.idle": "2024-01-06T16:10:12.230388Z",
     "shell.execute_reply": "2024-01-06T16:10:12.229299Z"
    },
    "papermill": {
     "duration": 8.509858,
     "end_time": "2024-01-06T16:10:12.233539",
     "exception": false,
     "start_time": "2024-01-06T16:10:03.723681",
     "status": "completed"
    },
    "tags": []
   },
   "outputs": [],
   "source": [
    "# read in the data\n",
    "df = pd.read_csv('../input/amazon-fine-food-reviews/Reviews.csv')"
   ]
  },
  {
   "cell_type": "code",
   "execution_count": 4,
   "id": "6f58d097",
   "metadata": {
    "execution": {
     "iopub.execute_input": "2024-01-06T16:10:12.243461Z",
     "iopub.status.busy": "2024-01-06T16:10:12.242993Z",
     "iopub.status.idle": "2024-01-06T16:10:12.248334Z",
     "shell.execute_reply": "2024-01-06T16:10:12.247080Z"
    },
    "papermill": {
     "duration": 0.013451,
     "end_time": "2024-01-06T16:10:12.250925",
     "exception": false,
     "start_time": "2024-01-06T16:10:12.237474",
     "status": "completed"
    },
    "tags": []
   },
   "outputs": [],
   "source": [
    "# there is a lot of data, shape it down a bit\n",
    "df = df.head(500)"
   ]
  },
  {
   "cell_type": "code",
   "execution_count": 5,
   "id": "dad1da09",
   "metadata": {
    "execution": {
     "iopub.execute_input": "2024-01-06T16:10:12.261990Z",
     "iopub.status.busy": "2024-01-06T16:10:12.260686Z",
     "iopub.status.idle": "2024-01-06T16:10:12.628076Z",
     "shell.execute_reply": "2024-01-06T16:10:12.627163Z"
    },
    "papermill": {
     "duration": 0.375726,
     "end_time": "2024-01-06T16:10:12.630813",
     "exception": false,
     "start_time": "2024-01-06T16:10:12.255087",
     "status": "completed"
    },
    "tags": []
   },
   "outputs": [
    {
     "data": {
      "image/png": "[encoded data removed]",
      "text/plain": [
       "<Figure size 1000x500 with 1 Axes>"
      ]
     },
     "metadata": {},
     "output_type": "display_data"
    }
   ],
   "source": [
    "plot = df['Score'].value_counts().sort_index().plot(kind='bar', title='Reviews by Stars', figsize=(10,5))\n",
    "plot.set_xlabel('Stars')\n",
    "plt.show()"
   ]
  },
  {
   "cell_type": "code",
   "execution_count": 6,
   "id": "88212cd7",
   "metadata": {
    "execution": {
     "iopub.execute_input": "2024-01-06T16:10:12.641928Z",
     "iopub.status.busy": "2024-01-06T16:10:12.641045Z",
     "iopub.status.idle": "2024-01-06T16:10:12.647756Z",
     "shell.execute_reply": "2024-01-06T16:10:12.646513Z"
    },
    "papermill": {
     "duration": 0.015374,
     "end_time": "2024-01-06T16:10:12.650422",
     "exception": false,
     "start_time": "2024-01-06T16:10:12.635048",
     "status": "completed"
    },
    "tags": []
   },
   "outputs": [
    {
     "name": "stdout",
     "output_type": "stream",
     "text": [
      "This oatmeal is not good. Its mushy, soft, I don't like it. Quaker Oats is the way to go.\n"
     ]
    }
   ],
   "source": [
    "test_ex = df['Text'][50]\n",
    "print(test_ex)"
   ]
  },
  {
   "cell_type": "code",
   "execution_count": 7,
   "id": "1b65cfb0",
   "metadata": {
    "execution": {
     "iopub.execute_input": "2024-01-06T16:10:12.661819Z",
     "iopub.status.busy": "2024-01-06T16:10:12.660694Z",
     "iopub.status.idle": "2024-01-06T16:10:12.666204Z",
     "shell.execute_reply": "2024-01-06T16:10:12.665102Z"
    },
    "papermill": {
     "duration": 0.013911,
     "end_time": "2024-01-06T16:10:12.668616",
     "exception": false,
     "start_time": "2024-01-06T16:10:12.654705",
     "status": "completed"
    },
    "tags": []
   },
   "outputs": [],
   "source": [
    "# nltk can split the data into parts and tokenize it\n"
   ]
  }
 ],
 "metadata": {
  "kaggle": {
   "accelerator": "none",
   "dataSources": [
    {
     "datasetId": 18,
     "sourceId": 2157,
     "sourceType": "datasetVersion"
    }
   ],
   "dockerImageVersionId": 30626,
   "isGpuEnabled": false,
   "isInternetEnabled": false,
   "language": "python",
   "sourceType": "notebook"
  },
  "kernelspec": {
   "display_name": "Python 3",
   "language": "python",
   "name": "python3"
  },
  "language_info": {
   "codemirror_mode": {
    "name": "ipython",
    "version": 3
   },
   "file_extension": ".py",
   "mimetype": "text/x-python",
   "name": "python",
   "nbconvert_exporter": "python",
   "pygments_lexer": "ipython3",
   "version": "3.10.12"
  },
  "papermill": {
   "default_parameters": {},
   "duration": 16.430714,
   "end_time": "2024-01-06T16:10:13.798179",
   "environment_variables": {},
   "exception": null,
   "input_path": "__notebook__.ipynb",
   "output_path": "__notebook__.ipynb",
   "parameters": {},
   "start_time": "2024-01-06T16:09:57.367465",
   "version": "2.4.0"
  }
 },
 "nbformat": 4,
 "nbformat_minor": 5
}
